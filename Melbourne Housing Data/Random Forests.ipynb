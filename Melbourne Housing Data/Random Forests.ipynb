{
 "cells": [
  {
   "cell_type": "code",
   "execution_count": 1,
   "id": "e86aea4d-5f27-43ac-aa2b-a237ee66d78e",
   "metadata": {},
   "outputs": [],
   "source": [
    "import pandas as pd\n",
    "from sklearn.ensemble import RandomForestRegressor \n",
    "from sklearn.metrics import mean_absolute_error\n",
    "from sklearn.model_selection import train_test_split\n",
    "import seaborn as sns\n",
    "import matplotlib.pyplot as plt"
   ]
  },
  {
   "cell_type": "code",
   "execution_count": 2,
   "id": "3662ec6d-662b-4aba-ad41-c3b617a4dabf",
   "metadata": {},
   "outputs": [],
   "source": [
    "def get_mae(max_depth, train_X, val_X, train_y, val_y):\n",
    "    model = RandomForestRegressor(n_estimators=5, max_depth=max_depth, random_state=0)\n",
    "    model.fit(train_X, train_y)\n",
    "    preds_val = model.predict(val_X)\n",
    "    mae = mean_absolute_error(preds_val, val_y)\n",
    "    return mae"
   ]
  },
  {
   "cell_type": "code",
   "execution_count": 6,
   "id": "f5f5665f-b48c-4a32-ba6b-6a044298b044",
   "metadata": {},
   "outputs": [
    {
     "data": {
      "text/plain": [
       "Index(['Suburb', 'Address', 'Rooms', 'Type', 'Price', 'Method', 'SellerG',\n",
       "       'Date', 'Distance', 'Postcode', 'Bedroom2', 'Bathroom', 'Car',\n",
       "       'Landsize', 'BuildingArea', 'YearBuilt', 'CouncilArea', 'Lattitude',\n",
       "       'Longtitude', 'Regionname', 'Propertycount'],\n",
       "      dtype='object')"
      ]
     },
     "execution_count": 6,
     "metadata": {},
     "output_type": "execute_result"
    }
   ],
   "source": [
    "df = pd.read_csv(\"E:/Projects/Learning/ML/Melbourne Housing Data/melb_data.csv\")\n",
    "df.dropna(axis=0, inplace=True)\n",
    "df.columns"
   ]
  },
  {
   "cell_type": "code",
   "execution_count": 8,
   "id": "2408390e-ba60-4ad4-b972-6e469fecffb7",
   "metadata": {},
   "outputs": [
    {
     "name": "stdout",
     "output_type": "stream",
     "text": [
      "<class 'pandas.core.frame.DataFrame'>\n",
      "Index: 6196 entries, 1 to 12212\n",
      "Data columns (total 21 columns):\n",
      " #   Column         Non-Null Count  Dtype  \n",
      "---  ------         --------------  -----  \n",
      " 0   Suburb         6196 non-null   object \n",
      " 1   Address        6196 non-null   object \n",
      " 2   Rooms          6196 non-null   int64  \n",
      " 3   Type           6196 non-null   object \n",
      " 4   Price          6196 non-null   float64\n",
      " 5   Method         6196 non-null   object \n",
      " 6   SellerG        6196 non-null   object \n",
      " 7   Date           6196 non-null   object \n",
      " 8   Distance       6196 non-null   float64\n",
      " 9   Postcode       6196 non-null   float64\n",
      " 10  Bedroom2       6196 non-null   float64\n",
      " 11  Bathroom       6196 non-null   float64\n",
      " 12  Car            6196 non-null   float64\n",
      " 13  Landsize       6196 non-null   float64\n",
      " 14  BuildingArea   6196 non-null   float64\n",
      " 15  YearBuilt      6196 non-null   float64\n",
      " 16  CouncilArea    6196 non-null   object \n",
      " 17  Lattitude      6196 non-null   float64\n",
      " 18  Longtitude     6196 non-null   float64\n",
      " 19  Regionname     6196 non-null   object \n",
      " 20  Propertycount  6196 non-null   float64\n",
      "dtypes: float64(12), int64(1), object(8)\n",
      "memory usage: 1.0+ MB\n"
     ]
    }
   ],
   "source": [
    "df.info()"
   ]
  },
  {
   "cell_type": "code",
   "execution_count": 11,
   "id": "dc2363ab-4136-445f-8505-d4d0aba3adb3",
   "metadata": {},
   "outputs": [
    {
     "data": {
      "image/png": "[encoded data removed]",
      "text/plain": [
       "<Figure size 700x400 with 1 Axes>"
      ]
     },
     "metadata": {},
     "output_type": "display_data"
    }
   ],
   "source": [
    "melbourne_features = ['Rooms', 'Bathroom', 'Landsize', 'Lattitude', \n",
    "                      \"Longtitude\", 'BuildingArea', 'Distance', 'Bedroom2']\n",
    "new_features = []\n",
    "y = df['Price'].reset_index(drop=True)\n",
    "X = df[melbourne_features]\n",
    "\n",
    "train_X, val_X, train_y, val_y = train_test_split(X, y, random_state=1, test_size=0.1)\n",
    "\n",
    "mae_by_depth = {}\n",
    "for i in range(5, 51, 5):\n",
    "    my_mae = get_mae(i, train_X, val_X, train_y, val_y)\n",
    "    mae_by_depth[i] = my_mae\n",
    "\n",
    "plt.figure(figsize=(7, 4))\n",
    "sns.scatterplot(x=mae_by_depth.keys(), y=mae_by_depth.values())\n",
    "plt.title('MAE vs Depth')\n",
    "plt.xlabel(\"Depth\")\n",
    "plt.ylabel(\"MAE Score\")\n",
    "plt.show()"
   ]
  },
  {
   "cell_type": "code",
   "execution_count": 12,
   "id": "47c54835-1d29-4b9a-b7e3-11682f8ea82e",
   "metadata": {},
   "outputs": [
    {
     "data": {
      "text/plain": [
       "{5: 254837.31246565015,\n",
       " 10: 192949.87773885462,\n",
       " 15: 188289.56631234378,\n",
       " 20: 191606.29397759293,\n",
       " 25: 189477.52571021885,\n",
       " 30: 187812.88709677418,\n",
       " 35: 189550.1751612903,\n",
       " 40: 189550.1751612903,\n",
       " 45: 189550.1751612903,\n",
       " 50: 189550.1751612903}"
      ]
     },
     "execution_count": 12,
     "metadata": {},
     "output_type": "execute_result"
    }
   ],
   "source": [
    "mae_by_depth"
   ]
  }
 ],
 "metadata": {
  "kernelspec": {
   "display_name": "Python 3 (ipykernel)",
   "language": "python",
   "name": "python3"
  },
  "language_info": {
   "codemirror_mode": {
    "name": "ipython",
    "version": 3
   },
   "file_extension": ".py",
   "mimetype": "text/x-python",
   "name": "python",
   "nbconvert_exporter": "python",
   "pygments_lexer": "ipython3",
   "version": "3.11.5"
  }
 },
 "nbformat": 4,
 "nbformat_minor": 5
}
