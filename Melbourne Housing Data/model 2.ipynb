{
 "cells": [
  {
   "cell_type": "code",
   "execution_count": null,
   "id": "a0a362da-4ccf-42ce-a484-77b831ab442f",
   "metadata": {},
   "outputs": [],
   "source": [
    "import pandas as pd\n",
    "import numpy as npm\n",
    "from sklearn.ensemble import RandomForestRegressor, GradientBoostingRegressor\n",
    "from sklearn.metrics import mean_absolute_error, mean_squared_error\n",
    "from sklearn.model_selection import train_test_split\n",
    "import seaborn as sns\n",
    "import matplotlib.pyplot as plt\n",
    "\n",
    "df = pd.read_csv(\"E:/Projects/Learning/ML/Melbourne Housing Data/melb_data.csv\")\n",
    "df.head()"
   ]
  },
  {
   "cell_type": "code",
   "execution_count": 4,
   "id": "88c4022b-aacb-4007-811a-bb4fd958c745",
   "metadata": {},
   "outputs": [
    {
     "data": {
      "text/plain": [
       "Index(['Suburb', 'Address', 'Rooms', 'Type', 'Price', 'Method', 'SellerG',\n",
       "       'Date', 'Distance', 'Postcode', 'Bedroom2', 'Bathroom', 'Car',\n",
       "       'Landsize', 'BuildingArea', 'YearBuilt', 'CouncilArea', 'Lattitude',\n",
       "       'Longtitude', 'Regionname', 'Propertycount'],\n",
       "      dtype='object')"
      ]
     },
     "execution_count": 4,
     "metadata": {},
     "output_type": "execute_result"
    }
   ],
   "source": [
    "df.columns"
   ]
  },
  {
   "cell_type": "code",
   "execution_count": 6,
   "id": "5cdea12b-8e9d-4c55-9bfe-4c44bc107ae3",
   "metadata": {},
   "outputs": [
    {
     "data": {
      "text/plain": [
       "(13580, 21)"
      ]
     },
     "execution_count": 6,
     "metadata": {},
     "output_type": "execute_result"
    }
   ],
   "source": [
    "df.shape"
   ]
  },
  {
   "cell_type": "code",
   "execution_count": null,
   "id": "8fa6e6ff-c0b9-4833-960c-e4c581b529c0",
   "metadata": {},
   "outputs": [],
   "source": [
    "melb_predictors = df.drop(\"Price\", axis=1)\n",
    "X = melb_predictors.select_dtypes(exclude='object')\n",
    "y = df.Price\n",
    "\n",
    "train_X, valid_X, train_y, valid_y = train_test_split(X, y, train_size=0.8, test_size=0.2, random_state=1)"
   ]
  },
  {
   "cell_type": "code",
   "execution_count": 19,
   "id": "0c75cb8c-c138-4316-85a3-e58126d61cdb",
   "metadata": {},
   "outputs": [],
   "source": [
    "def score_dataset(train_X, valid_X, train_y, valid_y):\n",
    "    model = RandomForestRegressor(n_estimators=10, random_state=1)\n",
    "    model.fit(train_X, train_y)\n",
    "    prediction = model.predict(valid_X)\n",
    "    mae = mean_absolute_error(prediction, valid_y)\n",
    "    return mae"
   ]
  },
  {
   "cell_type": "markdown",
   "id": "cf18da65-25be-4dd8-b8a2-ec772a4ba883",
   "metadata": {},
   "source": [
    "### Drop Columns with Missing Values"
   ]
  },
  {
   "cell_type": "code",
   "execution_count": 20,
   "id": "4f2c660b-0eb8-4f27-b332-0a328a7f4b51",
   "metadata": {},
   "outputs": [
    {
     "name": "stdout",
     "output_type": "stream",
     "text": [
      "MAE from dropping columns: 187082.57548478153\n"
     ]
    }
   ],
   "source": [
    "cols_with_missing = [col for col in train_X.columns if train_X[col].isna().any()]\n",
    "\n",
    "reduced_train_X = train_X.drop(cols_with_missing, axis=1)\n",
    "reduced_valid_X = valid_X.drop(cols_with_missing, axis=1)\n",
    "\n",
    "print(f\"MAE from dropping columns: {score_dataset(reduced_train_X, reduced_valid_X, train_y, valid_y)}\")"
   ]
  },
  {
   "cell_type": "markdown",
   "id": "eeb4bdde-69cb-4687-bceb-577d0644b32b",
   "metadata": {},
   "source": [
    "### Imputation"
   ]
  },
  {
   "cell_type": "code",
   "execution_count": 33,
   "id": "90404519-7615-4008-900a-1866998b9558",
   "metadata": {},
   "outputs": [
    {
     "name": "stdout",
     "output_type": "stream",
     "text": [
      "MAE from imputation: 174917.69150711832\n"
     ]
    }
   ],
   "source": [
    "from sklearn.impute import SimpleImputer\n",
    "\n",
    "my_imputer = SimpleImputer(strategy='mean')\n",
    "# my_imputer.fit(train_X)\n",
    "imputed_X_train = pd.DataFrame(my_imputer.fit_transform(train_X))\n",
    "imputed_X_valid = pd.DataFrame(my_imputer.transform(valid_X))\n",
    "\n",
    "imputed_X_train.columns = train_X.columns\n",
    "imputed_X_valid.columns = valid_X.columns\n",
    "\n",
    "print(f\"MAE from imputation: {score_dataset(imputed_X_train, imputed_X_valid, train_y, valid_y)}\")"
   ]
  },
  {
   "cell_type": "markdown",
   "id": "a8b8821e-503e-47c5-b1c5-cb831c9e28c6",
   "metadata": {},
   "source": [
    "### Approach 3: an extension to imputation"
   ]
  },
  {
   "cell_type": "code",
   "execution_count": 46,
   "id": "b28d378d-ce0e-441d-891e-e19ea0b44cd0",
   "metadata": {},
   "outputs": [
    {
     "name": "stdout",
     "output_type": "stream",
     "text": [
      "MAE from Approach 3: 177346.30320324007\n"
     ]
    }
   ],
   "source": [
    "train_X_plus = train_X.copy()\n",
    "valid_X_plus = valid_X.copy()\n",
    "\n",
    "for col in cols_with_missing:\n",
    "    train_X_plus[col + '_was_missing'] = train_X_plus[col].isna()\n",
    "    valid_X_plus[col + '_was_missing'] = valid_X_plus[col].isna()\n",
    "\n",
    "my_imputer_2 = SimpleImputer()\n",
    "imputed_X_train_plus = pd.DataFrame(my_imputer_2.fit_transform(train_X_plus))\n",
    "imputed_X_valid_plus = pd.DataFrame(my_imputer_2.transform(valid_X_plus))\n",
    "\n",
    "imputed_X_train_plus.columns = train_X_plus.columns\n",
    "imputed_X_valid_plus.columns = valid_X_plus.columns\n",
    "\n",
    "print(f\"MAE from Approach 3: {score_dataset(imputed_X_train_plus, imputed_X_valid_plus, train_y, valid_y)}\")"
   ]
  },
  {
   "cell_type": "code",
   "execution_count": null,
   "id": "27a388e7-5cfa-4aa4-860f-757dc1e266c8",
   "metadata": {},
   "outputs": [],
   "source": []
  }
 ],
 "metadata": {
  "kernelspec": {
   "display_name": "Python 3 (ipykernel)",
   "language": "python",
   "name": "python3"
  },
  "language_info": {
   "codemirror_mode": {
    "name": "ipython",
    "version": 3
   },
   "file_extension": ".py",
   "mimetype": "text/x-python",
   "name": "python",
   "nbconvert_exporter": "python",
   "pygments_lexer": "ipython3",
   "version": "3.11.5"
  }
 },
 "nbformat": 4,
 "nbformat_minor": 5
}
