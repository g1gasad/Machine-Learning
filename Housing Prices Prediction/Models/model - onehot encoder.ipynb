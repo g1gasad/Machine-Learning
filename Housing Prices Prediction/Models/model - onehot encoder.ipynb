{
 "cells": [
  {
   "cell_type": "code",
   "execution_count": null,
   "id": "86d2f3b8-c498-4980-86fc-7c7daccb526a",
   "metadata": {},
   "outputs": [],
   "source": [
    "import pandas as pd\n",
    "import numpy as np\n",
    "from sklearn.ensemble import RandomForestRegressor, GradientBoostingRegressor\n",
    "from sklearn.metrics import mean_absolute_error, mean_squared_error\n",
    "from sklearn.model_selection import train_test_split\n",
    "from sklearn.impute import SimpleImputer\n",
    "from sklearn.preprocessing import OrdinalEncoder, OneHotEncoder, LabelEncoder\n",
    "import seaborn as sns\n",
    "import matplotlib.pyplot as plt\n",
    "\n",
    "train_df = pd.read_csv(\"E:/Projects/Learning/ML/Housing Prices Prediction/Data/train.csv\").drop(\"Id\", axis=1)\n",
    "test_df = pd.read_csv(\"E:/Projects/Learning/ML/Housing Prices Prediction/Data/test.csv\")\n",
    "train_df.head()"
   ]
  },
  {
   "cell_type": "code",
   "execution_count": 3,
   "id": "6192e767-a6fc-4a8a-b166-2e615972d94b",
   "metadata": {},
   "outputs": [
    {
     "name": "stdout",
     "output_type": "stream",
     "text": [
      "Shape of X: (1460, 63) | NaN Values: 348\n",
      "Shape of X_test: (1459, 63) | NaN Values: 330\n",
      "Both DataFrames have same Columns\n"
     ]
    }
   ],
   "source": [
    "X = train_df.dropna(axis=0, subset='SalePrice')\n",
    "X = X.drop('SalePrice', axis=1)\n",
    "X_test = test_df.drop(\"Id\", axis=1)\n",
    "y = train_df.SalePrice\n",
    "\n",
    "missing_value_ocol_train = [col for col in X.columns if X[col].isna().any() and X[col].dtype == 'object']\n",
    "X = X.drop(missing_value_ocol_train, axis=1)\n",
    "object_cols = [col for col in X.columns if X[col].dtype == 'object']\n",
    "X_test = X_test.drop(missing_value_ocol_train, axis=1)\n",
    "\n",
    "# There are more columns in test data with missing values\n",
    "missing_value_ocol_test = [col for col in X_test.columns if X_test[col].isna().any() and X_test[col].dtype == 'object']\n",
    "# Filling NaN values because dropping isn't an option\n",
    "for col in missing_value_ocol_test:\n",
    "    if X_test[col].dtype == 'object':\n",
    "        most_frequent_value = X_test[col].mode()[0]\n",
    "        X_test[col].fillna(most_frequent_value, inplace=True)\n",
    "\n",
    "# X_test must have 1459 rows\n",
    "print(\"Shape of X:\", X.shape, \"| NaN Values:\", X.isna().sum().sum())\n",
    "print(\"Shape of X_test:\", X_test.shape, \"| NaN Values:\", X_test.isna().sum().sum())\n",
    "# Checking if both have same Columns\n",
    "if list(X_test.columns) == list(X.columns):\n",
    "    print(\"Both DataFrames have same Columns\")\n",
    "else:\n",
    "    print(\"There's a difference in columns between the DataFrames\")"
   ]
  },
  {
   "cell_type": "code",
   "execution_count": 4,
   "id": "2fe12a27-36a2-425d-937d-715e6318b900",
   "metadata": {},
   "outputs": [],
   "source": [
    "num_X = X.select_dtypes(exclude='object')\n",
    "num_X_test = X_test.select_dtypes(exclude='object')\n",
    "\n",
    "my_imputer = SimpleImputer(strategy='most_frequent')\n",
    "\n",
    "imputed_X = pd.DataFrame(my_imputer.fit_transform(num_X))\n",
    "imputed_X_test = pd.DataFrame(my_imputer.transform(num_X_test))\n",
    "\n",
    "imputed_X.columns = num_X.columns\n",
    "imputed_X_test.columns = num_X_test.columns"
   ]
  },
  {
   "cell_type": "code",
   "execution_count": 5,
   "id": "0c39186b-6ec6-42fe-a7d8-1b010d05182e",
   "metadata": {},
   "outputs": [],
   "source": [
    "nunique_dict = {col: X[col].nunique() for col in object_cols}\n",
    "nunique_dict_sorted = sorted(nunique_dict.items(), key=lambda item:item[1])"
   ]
  },
  {
   "cell_type": "code",
   "execution_count": 6,
   "id": "d513717a-3aa4-4e91-b0cc-9ec9eed5796d",
   "metadata": {},
   "outputs": [],
   "source": [
    "low_cardinal_col = [col for col in object_cols if X[col].nunique() < 10]\n",
    "high_cardinal_col = list(set(object_cols) - set(low_cardinal_col))\n",
    "\n",
    "OH_encoder = OneHotEncoder(sparse_output=False, handle_unknown='ignore')\n",
    "\n",
    "low_cardinality_X = X[low_cardinal_col].copy()\n",
    "low_cardinality_X_test = X_test[low_cardinal_col].copy()\n",
    "\n",
    "ohe_X = pd.DataFrame(OH_encoder.fit_transform(low_cardinality_X))\n",
    "ohe_X_test = pd.DataFrame(OH_encoder.transform(low_cardinality_X_test))\n",
    "\n",
    "ohe_X.index = low_cardinality_X.index\n",
    "ohe_X_test.index = low_cardinality_X_test.index\n",
    "\n",
    "OH_col_names_to_replace_with = {col: \"col_\"+str(col+1) for col in ohe_X.columns}\n",
    "ohe_X = ohe_X.rename(columns=OH_col_names_to_replace_with)\n",
    "ohe_X_test = ohe_X_test.rename(columns=OH_col_names_to_replace_with)\n",
    "\n",
    "OH_X = pd.concat([imputed_X, ohe_X], axis=1)\n",
    "OH_X_test = pd.concat([imputed_X_test, ohe_X_test], axis=1)"
   ]
  },
  {
   "cell_type": "code",
   "execution_count": 7,
   "id": "4f90a1d7-7e18-425e-966a-e978eeeb7c55",
   "metadata": {},
   "outputs": [],
   "source": [
    "def final_pred_result(X_train, y_train, X_test):\n",
    "    # Prediction from RandomForest Model\n",
    "    rf_model = RandomForestRegressor(n_estimators=100, max_depth=10, random_state=1)\n",
    "    rf_model.fit(X_train, y_train)\n",
    "    rf_preds = rf_model.predict(X_test)\n",
    "    # Prediction from GBM Model\n",
    "    gbm_model = GradientBoostingRegressor(n_estimators=100, learning_rate=0.15, random_state=1)\n",
    "    gbm_model.fit(X_train, y_train)\n",
    "    gbm_preds = gbm_model.predict(X_test)\n",
    "    # Averaging both Predictions\n",
    "    return (rf_preds + gbm_preds) / 2\n",
    "\n",
    "# Label_final_preds = final_pred_result(label_X, y, label_X_test)\n",
    "OH_final_preds = final_pred_result(OH_X, y, OH_X_test)"
   ]
  },
  {
   "cell_type": "code",
   "execution_count": 8,
   "id": "99531e32-790c-4025-a52d-fbc7ce6135bb",
   "metadata": {},
   "outputs": [],
   "source": [
    "# output = pd.DataFrame({'Id': test_df['Id'], 'SalePrice': OH_final_preds})\n",
    "# output.to_csv(\"Submission.csv\", index=False)"
   ]
  }
 ],
 "metadata": {
  "kernelspec": {
   "display_name": "Python 3 (ipykernel)",
   "language": "python",
   "name": "python3"
  },
  "language_info": {
   "codemirror_mode": {
    "name": "ipython",
    "version": 3
   },
   "file_extension": ".py",
   "mimetype": "text/x-python",
   "name": "python",
   "nbconvert_exporter": "python",
   "pygments_lexer": "ipython3",
   "version": "3.11.5"
  }
 },
 "nbformat": 4,
 "nbformat_minor": 5
}
